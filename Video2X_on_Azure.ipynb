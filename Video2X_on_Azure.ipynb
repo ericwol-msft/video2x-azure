{
  "cells": [
    {
      "cell_type": "code",
      "source": [
        "#install OS requirements\r\n",
        "!sudo add-apt-repository universe\r\n",
        "!sudo apt-get -y update \r\n",
        "!sudo apt -y install p7zip-full\r\n",
        "!sudo apt -y install ffmpeg\r\n",
        "!sudo apt -y install libmagic1 python3-yaml\r\n",
        "!sudo apt -y install libvulkan-dev\r\n",
        "!sudo apt -y autoremove\r\n",
        "!pip install --user youtube-dl"
      ],
      "outputs": [],
      "execution_count": null,
      "metadata": {}
    },
    {
      "cell_type": "code",
      "source": [
        "#download video2x repo\r\n",
        "!git clone https://github.com/k4yt3x/video2x.git"
      ],
      "outputs": [],
      "execution_count": null,
      "metadata": {
        "jupyter": {
          "source_hidden": false,
          "outputs_hidden": false
        },
        "nteract": {
          "transient": {
            "deleting": false
          }
        }
      }
    },
    {
      "cell_type": "code",
      "source": [
        "#download and install python requirements\r\n",
        "import os\r\n",
        "os.chdir('video2x/src')\r\n",
        "!git checkout 4.7.0\r\n",
        "!pip install -r requirements.txt\r\n",
        "os.chdir('../..')\r\n",
        "!pip install -U PyYAML"
      ],
      "outputs": [],
      "execution_count": null,
      "metadata": {
        "jupyter": {
          "source_hidden": false,
          "outputs_hidden": false
        },
        "nteract": {
          "transient": {
            "deleting": false
          }
        }
      }
    },
    {
      "cell_type": "code",
      "source": [
        "#download upscale drivers\r\n",
        "!rm realsr-ncnn-vulkan-20200818-linux.zip\r\n",
        "!rm waifu2x-ncnn-vulkan-20200818-linux.zip\r\n",
        "!rm srmd-ncnn-vulkan-20200818-linux.zip\r\n",
        "!wget https://github.com/nihui/realsr-ncnn-vulkan/releases/download/20200818/realsr-ncnn-vulkan-20200818-linux.zip\r\n",
        "!7z x -odrivers realsr-ncnn-vulkan-20200818-linux.zip\r\n",
        "!wget https://github.com/nihui/waifu2x-ncnn-vulkan/releases/download/20200818/waifu2x-ncnn-vulkan-20200818-linux.zip\r\n",
        "!7z x -odrivers waifu2x-ncnn-vulkan-20200818-linux.zip\r\n",
        "!wget https://github.com/nihui/srmd-ncnn-vulkan/releases/download/20200818/srmd-ncnn-vulkan-20200818-linux.zip\r\n",
        "!7z x -odrivers srmd-ncnn-vulkan-20200818-linux.zip\r\n",
        "\r\n",
        "#update config yaml to point to driver locations\r\n",
        "!sed -i -e \"s/\\%LOCALAPPDATA\\%\\\\\\video2x\\\\\\ffmpeg-latest-win64-static\\\\\\/\\\\/usr\\//g\" video2x/src/video2x.yaml\r\n",
        "!sed -i -e \"s/\\%LOCALAPPDATA\\%\\\\\\video2x\\\\\\waifu2x-ncnn-vulkan\\\\\\/\\$PWD\\/drivers\\/waifu2x-ncnn-vulkan-20200818-linux\\//g\" video2x/src/video2x.yaml\r\n",
        "!sed -i -e \"s/\\%LOCALAPPDATA\\%\\\\\\video2x\\\\\\srmd-ncnn-vulkan\\\\\\/\\$PWD\\/drivers\\/srmd-ncnn-vulkan-20200818-linux\\//g\" video2x/src/video2x.yaml\r\n",
        "!sed -i -e \"s/\\%LOCALAPPDATA\\%\\\\\\video2x\\\\\\realsr-ncnn-vulkan\\\\\\/\\$PWD\\/drivers\\/realsr-ncnn-vulkan-20200818-linux\\//g\" video2x/src/video2x.yaml"
      ],
      "outputs": [],
      "execution_count": null,
      "metadata": {
        "jupyter": {
          "source_hidden": false,
          "outputs_hidden": false
        },
        "nteract": {
          "transient": {
            "deleting": false
          }
        }
      }
    },
    {
      "cell_type": "code",
      "source": [
        "#download video file to upscale\r\n",
        "!wget -O video.mp4 https://files.k4yt3x.com/Resources/Videos/sample_input.mp4"
      ],
      "outputs": [],
      "execution_count": null,
      "metadata": {
        "jupyter": {
          "source_hidden": false,
          "outputs_hidden": false
        },
        "nteract": {
          "transient": {
            "deleting": false
          }
        }
      }
    },
    {
      "cell_type": "code",
      "source": [
        "#run upscale encoder\r\n",
        "!python video2x/src/video2x.py -i video.mp4 -o video_4x.mp4 -d waifu2x_ncnn_vulkan -r 4.0\r\n",
        "!#python video2x/src/video2x.py -i video.mp4 -o video_4x.mp4 -d realsr_ncnn_vulkan -r 4.0"
      ],
      "outputs": [],
      "execution_count": null,
      "metadata": {
        "jupyter": {
          "source_hidden": false,
          "outputs_hidden": false
        },
        "nteract": {
          "transient": {
            "deleting": false
          }
        }
      }
    }
  ],
  "metadata": {
    "kernelspec": {
      "name": "python3-azureml",
      "language": "python",
      "display_name": "Python 3.6 - AzureML"
    },
    "language_info": {
      "name": "python",
      "version": "3.6.9",
      "mimetype": "text/x-python",
      "codemirror_mode": {
        "name": "ipython",
        "version": 3
      },
      "pygments_lexer": "ipython3",
      "nbconvert_exporter": "python",
      "file_extension": ".py"
    },
    "kernel_info": {
      "name": "python3-azureml"
    },
    "nteract": {
      "version": "nteract-front-end@1.0.0"
    }
  },
  "nbformat": 4,
  "nbformat_minor": 0
}
